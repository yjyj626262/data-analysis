{
  "nbformat": 4,
  "nbformat_minor": 0,
  "metadata": {
    "colab": {
      "provenance": [],
      "machine_shape": "hm",
      "gpuType": "V100"
    },
    "kernelspec": {
      "name": "python3",
      "display_name": "Python 3"
    },
    "language_info": {
      "name": "python"
    },
    "accelerator": "GPU"
  },
  "cells": [
    {
      "cell_type": "code",
      "execution_count": null,
      "metadata": {
        "colab": {
          "base_uri": "https://localhost:8080/"
        },
        "id": "WIR3ePhz6HMS",
        "outputId": "421bce89-4091-455a-a093-252147a05790"
      },
      "outputs": [
        {
          "output_type": "stream",
          "name": "stdout",
          "text": [
            "Requirement already satisfied: torchsummary in /usr/local/lib/python3.10/dist-packages (1.5.1)\n"
          ]
        }
      ],
      "source": [
        "!pip install torchsummary"
      ]
    },
    {
      "cell_type": "code",
      "source": [
        "import os                       # for working with files\n",
        "import numpy as np              # for numerical computationss\n",
        "import pandas as pd             # for working with dataframes\n",
        "import torch                    # Pytorch module\n",
        "import matplotlib.pyplot as plt # for plotting informations on graph and images using tensors\n",
        "import torch.nn as nn           # for creating  neural networks\n",
        "from torch.utils.data import DataLoader # for dataloaders\n",
        "from PIL import Image           # for checking images\n",
        "import torch.nn.functional as F # for functions for calculating loss\n",
        "import torchvision.transforms as transforms   # for transforming images into tensors\n",
        "from torchvision.utils import make_grid       # for data checking\n",
        "from torchvision.datasets import ImageFolder  # for working with classes and images\n",
        "from torchsummary import summary              # for getting the summary of our model\n",
        "\n",
        "%matplotlib inline"
      ],
      "metadata": {
        "id": "KEuA97UV6L-a"
      },
      "execution_count": null,
      "outputs": []
    },
    {
      "cell_type": "code",
      "source": [
        "from google.colab import drive\n",
        "drive.mount('/content/drive')"
      ],
      "metadata": {
        "colab": {
          "base_uri": "https://localhost:8080/"
        },
        "id": "6CJl151k6f8G",
        "outputId": "2f663c2e-c72c-4d83-faf1-cb11bfff6d11"
      },
      "execution_count": null,
      "outputs": [
        {
          "output_type": "stream",
          "name": "stdout",
          "text": [
            "Mounted at /content/drive\n"
          ]
        }
      ]
    },
    {
      "cell_type": "code",
      "source": [
        "normal = np.load('/content/drive/MyDrive/데이터/파/train/파_정상_224_color.npy')\n",
        "disease = np.load('/content/drive/MyDrive/데이터/파/train/파_질병_224_color.npy')\n",
        "expend = np.load('/content/drive/MyDrive/데이터/파/train/파_증강_224_color.npy')\n",
        "diseases = np.concatenate((disease, expend), axis=0)\n",
        "X_train2 = np.concatenate((normal, diseases), axis=0)\n",
        "labels = pd.read_csv('/content/drive/MyDrive/데이터/파/train/[라벨]파.csv')\n",
        "if X_train2.shape[0]==labels.shape[0] :\n",
        "    y_train = labels.loc[:,'disease']\n",
        "else :\n",
        "    print('길이가 같지 않습니다.')"
      ],
      "metadata": {
        "id": "H-F7s0j16VL0"
      },
      "execution_count": null,
      "outputs": []
    },
    {
      "cell_type": "code",
      "source": [
        "np.unique(y_train)"
      ],
      "metadata": {
        "colab": {
          "base_uri": "https://localhost:8080/"
        },
        "id": "ek8XEdi6E-sc",
        "outputId": "7f6dabdf-e881-42d9-97c0-a1badfc5b815"
      },
      "execution_count": null,
      "outputs": [
        {
          "output_type": "execute_result",
          "data": {
            "text/plain": [
              "array([ 0., 16., 17., 18.])"
            ]
          },
          "metadata": {},
          "execution_count": 25
        }
      ]
    },
    {
      "cell_type": "code",
      "source": [
        "y_train[y_train==16]=1\n",
        "y_train[y_train==17]=2\n",
        "y_train[y_train==18]=3"
      ],
      "metadata": {
        "colab": {
          "base_uri": "https://localhost:8080/"
        },
        "id": "zwNUkFkkE9a7",
        "outputId": "c5aa53e8-36f5-41b1-bf40-23fd985e9011"
      },
      "execution_count": null,
      "outputs": [
        {
          "output_type": "stream",
          "name": "stderr",
          "text": [
            "<ipython-input-26-725e9f02fb39>:1: SettingWithCopyWarning: \n",
            "A value is trying to be set on a copy of a slice from a DataFrame\n",
            "\n",
            "See the caveats in the documentation: https://pandas.pydata.org/pandas-docs/stable/user_guide/indexing.html#returning-a-view-versus-a-copy\n",
            "  y_train[y_train==16]=1\n",
            "<ipython-input-26-725e9f02fb39>:2: SettingWithCopyWarning: \n",
            "A value is trying to be set on a copy of a slice from a DataFrame\n",
            "\n",
            "See the caveats in the documentation: https://pandas.pydata.org/pandas-docs/stable/user_guide/indexing.html#returning-a-view-versus-a-copy\n",
            "  y_train[y_train==17]=2\n",
            "<ipython-input-26-725e9f02fb39>:3: SettingWithCopyWarning: \n",
            "A value is trying to be set on a copy of a slice from a DataFrame\n",
            "\n",
            "See the caveats in the documentation: https://pandas.pydata.org/pandas-docs/stable/user_guide/indexing.html#returning-a-view-versus-a-copy\n",
            "  y_train[y_train==18]=3\n"
          ]
        }
      ]
    },
    {
      "cell_type": "code",
      "source": [
        "from sklearn.model_selection import train_test_split\n",
        "from tensorflow.keras.models import Sequential\n",
        "from tensorflow.keras.layers import Dense, Dropout, Flatten, Conv2D, MaxPooling2D\n",
        "from tensorflow.keras.callbacks import ModelCheckpoint,EarlyStopping\n",
        "from tensorflow.keras.utils import to_categorical\n",
        "import matplotlib.pyplot as plt\n",
        "import numpy as np\n",
        "\n",
        "\n",
        "X_train, X_test, y_train, y_test = train_test_split(X_train2, y_train, test_size=0.2, random_state=42, stratify = y_train)\n",
        "\n",
        "\n",
        "y_train = to_categorical(y_train)\n",
        "y_test = to_categorical(y_test)"
      ],
      "metadata": {
        "id": "CACAAJSw6icR"
      },
      "execution_count": null,
      "outputs": []
    },
    {
      "cell_type": "code",
      "source": [
        "print(X_train.shape, X_test.shape, y_train.shape, y_test.shape)"
      ],
      "metadata": {
        "colab": {
          "base_uri": "https://localhost:8080/"
        },
        "id": "L546TqcUBge5",
        "outputId": "a988e76d-1a89-4891-aa5a-aae47acb9372"
      },
      "execution_count": null,
      "outputs": [
        {
          "output_type": "stream",
          "name": "stdout",
          "text": [
            "(36195, 224, 224, 3) (9049, 224, 224, 3) (36195, 4) (9049,)\n"
          ]
        }
      ]
    },
    {
      "cell_type": "code",
      "source": [
        "# 용량 제한 맞춘 수정본\n",
        "from tensorflow.keras.layers import AveragePooling2D, GlobalAveragePooling2D\n",
        "from tensorflow.keras.models import Sequential, Model\n",
        "from tensorflow.keras.layers import Conv2D, BatchNormalization, ReLU, Add, Input, Activation, ZeroPadding2D\n",
        "\n",
        "def input_layer(x):\n",
        "    x = ZeroPadding2D(padding=(3, 3))(x)  # 230x230x3\n",
        "    x = Conv2D(64, (7, 7), strides=(2, 2))(x) # 112x112x64\n",
        "    x = BatchNormalization()(x)\n",
        "    x = Activation('relu')(x)\n",
        "    x = ZeroPadding2D(padding=(1,1))(x) # 114x114x64\n",
        "    x = MaxPooling2D((3, 3), 2)(x) # 56 x 56 x 64\n",
        "    return x\n",
        "\n",
        "def conv_layer1(x, out,layer):\n",
        "    shortcut = x\n",
        "\n",
        "    for i in range(layer):\n",
        "        x = Conv2D(out, (3, 3), strides=(1, 1), padding='same')(x)\n",
        "        x = BatchNormalization()(x)\n",
        "        x = Activation('relu')(x)\n",
        "\n",
        "        x = Add()([x, shortcut])\n",
        "        x = Activation('relu')(x)\n",
        "        shortcut = x\n",
        "    return x\n",
        "\n",
        "def conv_layer2(x, out, layer):\n",
        "\n",
        "    for i in range(layer):\n",
        "        if(i == 0):\n",
        "            x = Conv2D(out, (1, 1), strides=(2, 2), padding='same')(x)\n",
        "            x = BatchNormalization()(x)\n",
        "            x = Activation('relu')(x)\n",
        "            shortcut=x\n",
        "\n",
        "        else:\n",
        "            x = Conv2D(out, (3, 3), strides=(1, 1), padding='same')(x)\n",
        "            x = BatchNormalization()(x)\n",
        "            x = Activation('relu')(x)\n",
        "\n",
        "            x = Add()([x, shortcut])\n",
        "            x = Activation('relu')(x)\n",
        "\n",
        "            shortcut = x\n",
        "\n",
        "    return x\n",
        "\n",
        "\n",
        "def resnet_light():\n",
        "    inputs = Input(shape=(224, 224, 3))\n",
        "\n",
        "    x = input_layer(inputs)   # 56x56x64\n",
        "    x = conv_layer1(x,64,3)   # 56x56x64\n",
        "    x = conv_layer2(x,128,4)  # 28x28x128\n",
        "    x = conv_layer2(x,256,5)  # 14x14x256\n",
        "    x = conv_layer2(x,512,3)  # 7x7x512\n",
        "\n",
        "    x = GlobalAveragePooling2D()(x)  # 512\n",
        "    x = Dense(1000)(x)\n",
        "    output_tensor = Dense(4, activation='softmax')(x)\n",
        "\n",
        "    model = Model(inputs=inputs, outputs=output_tensor)\n",
        "    return model"
      ],
      "metadata": {
        "id": "ythq2IIiJbP8"
      },
      "execution_count": null,
      "outputs": []
    },
    {
      "cell_type": "code",
      "source": [
        "from tensorflow.keras.models import load_model\n",
        "from tensorflow.keras.metrics import Recall\n",
        "model = resnet_light()\n",
        "model.compile(loss='categorical_crossentropy',\n",
        "              optimizer='adam',\n",
        "              metrics=['accuracy', Recall()])\n",
        "\n",
        "\n",
        "modelpath='/content/drive/MyDrive/작물별 모델/파/green_onion_model.keras'\n",
        "checkpointer = ModelCheckpoint(filepath=modelpath, monitor='val_loss', verbose=1, save_best_only=True)\n",
        "early_stopping_callback = EarlyStopping(monitor='val_loss', patience=40)\n",
        "\n",
        "history = model.fit(X_train, y_train, validation_split=0.2, epochs=500, batch_size=32, verbose=0, callbacks=[early_stopping_callback,checkpointer])\n",
        "\n",
        "loaded_model = load_model(modelpath)\n",
        "\n",
        "loss, accuracy, recall = loaded_model.evaluate(X_test, y_test)\n",
        "print(\"\\n Test Accuracy: %.4f\" % accuracy)\n",
        "print(\"\\n Test Recall: %.4f\" % recall)"
      ],
      "metadata": {
        "colab": {
          "base_uri": "https://localhost:8080/",
          "height": 1000
        },
        "id": "I0cX89bloy5y",
        "outputId": "12a1d740-6e00-4d6d-d1f8-606f54187b9e"
      },
      "execution_count": null,
      "outputs": [
        {
          "output_type": "stream",
          "name": "stdout",
          "text": [
            "\n",
            "Epoch 1: val_loss improved from inf to 1.09521, saving model to /content/drive/MyDrive/작물별 모델/파/green_onion_model.keras\n",
            "\n",
            "Epoch 2: val_loss improved from 1.09521 to 0.60271, saving model to /content/drive/MyDrive/작물별 모델/파/green_onion_model.keras\n",
            "\n",
            "Epoch 3: val_loss did not improve from 0.60271\n",
            "\n",
            "Epoch 4: val_loss did not improve from 0.60271\n",
            "\n",
            "Epoch 5: val_loss improved from 0.60271 to 0.25851, saving model to /content/drive/MyDrive/작물별 모델/파/green_onion_model.keras\n",
            "\n",
            "Epoch 6: val_loss did not improve from 0.25851\n",
            "\n",
            "Epoch 7: val_loss improved from 0.25851 to 0.24939, saving model to /content/drive/MyDrive/작물별 모델/파/green_onion_model.keras\n",
            "\n",
            "Epoch 8: val_loss did not improve from 0.24939\n",
            "\n",
            "Epoch 9: val_loss improved from 0.24939 to 0.19534, saving model to /content/drive/MyDrive/작물별 모델/파/green_onion_model.keras\n",
            "\n",
            "Epoch 10: val_loss did not improve from 0.19534\n",
            "\n",
            "Epoch 11: val_loss improved from 0.19534 to 0.14085, saving model to /content/drive/MyDrive/작물별 모델/파/green_onion_model.keras\n",
            "\n",
            "Epoch 12: val_loss did not improve from 0.14085\n",
            "\n",
            "Epoch 13: val_loss did not improve from 0.14085\n",
            "\n",
            "Epoch 14: val_loss improved from 0.14085 to 0.09935, saving model to /content/drive/MyDrive/작물별 모델/파/green_onion_model.keras\n",
            "\n",
            "Epoch 15: val_loss did not improve from 0.09935\n",
            "\n",
            "Epoch 16: val_loss did not improve from 0.09935\n",
            "\n",
            "Epoch 17: val_loss did not improve from 0.09935\n",
            "\n",
            "Epoch 18: val_loss did not improve from 0.09935\n",
            "\n",
            "Epoch 19: val_loss did not improve from 0.09935\n",
            "\n",
            "Epoch 20: val_loss did not improve from 0.09935\n",
            "\n",
            "Epoch 21: val_loss did not improve from 0.09935\n",
            "\n",
            "Epoch 22: val_loss did not improve from 0.09935\n",
            "\n",
            "Epoch 23: val_loss did not improve from 0.09935\n",
            "\n",
            "Epoch 24: val_loss did not improve from 0.09935\n",
            "\n",
            "Epoch 25: val_loss did not improve from 0.09935\n",
            "\n",
            "Epoch 26: val_loss did not improve from 0.09935\n",
            "\n",
            "Epoch 27: val_loss did not improve from 0.09935\n",
            "\n",
            "Epoch 28: val_loss did not improve from 0.09935\n",
            "\n",
            "Epoch 29: val_loss did not improve from 0.09935\n",
            "\n",
            "Epoch 30: val_loss did not improve from 0.09935\n",
            "\n",
            "Epoch 31: val_loss improved from 0.09935 to 0.07335, saving model to /content/drive/MyDrive/작물별 모델/파/green_onion_model.keras\n",
            "\n",
            "Epoch 32: val_loss did not improve from 0.07335\n",
            "\n",
            "Epoch 33: val_loss did not improve from 0.07335\n",
            "\n",
            "Epoch 34: val_loss did not improve from 0.07335\n",
            "\n",
            "Epoch 35: val_loss did not improve from 0.07335\n",
            "\n",
            "Epoch 36: val_loss improved from 0.07335 to 0.06978, saving model to /content/drive/MyDrive/작물별 모델/파/green_onion_model.keras\n",
            "\n",
            "Epoch 37: val_loss did not improve from 0.06978\n",
            "\n",
            "Epoch 38: val_loss did not improve from 0.06978\n",
            "\n",
            "Epoch 39: val_loss did not improve from 0.06978\n",
            "\n",
            "Epoch 40: val_loss improved from 0.06978 to 0.06777, saving model to /content/drive/MyDrive/작물별 모델/파/green_onion_model.keras\n",
            "\n",
            "Epoch 41: val_loss did not improve from 0.06777\n",
            "\n",
            "Epoch 42: val_loss did not improve from 0.06777\n",
            "\n",
            "Epoch 43: val_loss did not improve from 0.06777\n",
            "\n",
            "Epoch 44: val_loss did not improve from 0.06777\n",
            "\n",
            "Epoch 45: val_loss did not improve from 0.06777\n",
            "\n",
            "Epoch 46: val_loss did not improve from 0.06777\n",
            "\n",
            "Epoch 47: val_loss did not improve from 0.06777\n",
            "\n",
            "Epoch 48: val_loss did not improve from 0.06777\n",
            "\n",
            "Epoch 49: val_loss did not improve from 0.06777\n",
            "\n",
            "Epoch 50: val_loss did not improve from 0.06777\n",
            "\n",
            "Epoch 51: val_loss did not improve from 0.06777\n",
            "\n",
            "Epoch 52: val_loss did not improve from 0.06777\n",
            "\n",
            "Epoch 53: val_loss did not improve from 0.06777\n",
            "\n",
            "Epoch 54: val_loss improved from 0.06777 to 0.06738, saving model to /content/drive/MyDrive/작물별 모델/파/green_onion_model.keras\n",
            "\n",
            "Epoch 55: val_loss did not improve from 0.06738\n",
            "\n",
            "Epoch 56: val_loss did not improve from 0.06738\n",
            "\n",
            "Epoch 57: val_loss did not improve from 0.06738\n",
            "\n",
            "Epoch 58: val_loss did not improve from 0.06738\n",
            "\n",
            "Epoch 59: val_loss did not improve from 0.06738\n",
            "\n",
            "Epoch 60: val_loss did not improve from 0.06738\n",
            "\n",
            "Epoch 61: val_loss did not improve from 0.06738\n",
            "\n",
            "Epoch 62: val_loss did not improve from 0.06738\n",
            "\n",
            "Epoch 63: val_loss did not improve from 0.06738\n",
            "\n",
            "Epoch 64: val_loss did not improve from 0.06738\n",
            "\n",
            "Epoch 65: val_loss did not improve from 0.06738\n",
            "\n",
            "Epoch 66: val_loss did not improve from 0.06738\n",
            "\n",
            "Epoch 67: val_loss did not improve from 0.06738\n",
            "\n",
            "Epoch 68: val_loss did not improve from 0.06738\n",
            "\n",
            "Epoch 69: val_loss did not improve from 0.06738\n",
            "\n",
            "Epoch 70: val_loss did not improve from 0.06738\n",
            "\n",
            "Epoch 71: val_loss did not improve from 0.06738\n",
            "\n",
            "Epoch 72: val_loss did not improve from 0.06738\n",
            "\n",
            "Epoch 73: val_loss did not improve from 0.06738\n",
            "\n",
            "Epoch 74: val_loss did not improve from 0.06738\n",
            "\n",
            "Epoch 75: val_loss did not improve from 0.06738\n",
            "\n",
            "Epoch 76: val_loss did not improve from 0.06738\n",
            "\n",
            "Epoch 77: val_loss did not improve from 0.06738\n",
            "\n",
            "Epoch 78: val_loss did not improve from 0.06738\n",
            "\n",
            "Epoch 79: val_loss did not improve from 0.06738\n",
            "\n",
            "Epoch 80: val_loss did not improve from 0.06738\n",
            "\n",
            "Epoch 81: val_loss did not improve from 0.06738\n",
            "\n",
            "Epoch 82: val_loss did not improve from 0.06738\n",
            "\n",
            "Epoch 83: val_loss did not improve from 0.06738\n",
            "\n",
            "Epoch 84: val_loss did not improve from 0.06738\n",
            "\n",
            "Epoch 85: val_loss did not improve from 0.06738\n",
            "\n",
            "Epoch 86: val_loss did not improve from 0.06738\n",
            "\n",
            "Epoch 87: val_loss did not improve from 0.06738\n",
            "\n",
            "Epoch 88: val_loss did not improve from 0.06738\n",
            "\n",
            "Epoch 89: val_loss did not improve from 0.06738\n",
            "\n",
            "Epoch 90: val_loss did not improve from 0.06738\n"
          ]
        },
        {
          "output_type": "error",
          "ename": "KeyboardInterrupt",
          "evalue": "",
          "traceback": [
            "\u001b[0;31m---------------------------------------------------------------------------\u001b[0m",
            "\u001b[0;31mKeyboardInterrupt\u001b[0m                         Traceback (most recent call last)",
            "\u001b[0;32m<ipython-input-20-72b80cb8fe44>\u001b[0m in \u001b[0;36m<cell line: 13>\u001b[0;34m()\u001b[0m\n\u001b[1;32m     11\u001b[0m \u001b[0mearly_stopping_callback\u001b[0m \u001b[0;34m=\u001b[0m \u001b[0mEarlyStopping\u001b[0m\u001b[0;34m(\u001b[0m\u001b[0mmonitor\u001b[0m\u001b[0;34m=\u001b[0m\u001b[0;34m'val_loss'\u001b[0m\u001b[0;34m,\u001b[0m \u001b[0mpatience\u001b[0m\u001b[0;34m=\u001b[0m\u001b[0;36m40\u001b[0m\u001b[0;34m)\u001b[0m\u001b[0;34m\u001b[0m\u001b[0;34m\u001b[0m\u001b[0m\n\u001b[1;32m     12\u001b[0m \u001b[0;34m\u001b[0m\u001b[0m\n\u001b[0;32m---> 13\u001b[0;31m \u001b[0mhistory\u001b[0m \u001b[0;34m=\u001b[0m \u001b[0mmodel\u001b[0m\u001b[0;34m.\u001b[0m\u001b[0mfit\u001b[0m\u001b[0;34m(\u001b[0m\u001b[0mX_train\u001b[0m\u001b[0;34m,\u001b[0m \u001b[0my_train\u001b[0m\u001b[0;34m,\u001b[0m \u001b[0mvalidation_split\u001b[0m\u001b[0;34m=\u001b[0m\u001b[0;36m0.2\u001b[0m\u001b[0;34m,\u001b[0m \u001b[0mepochs\u001b[0m\u001b[0;34m=\u001b[0m\u001b[0;36m500\u001b[0m\u001b[0;34m,\u001b[0m \u001b[0mbatch_size\u001b[0m\u001b[0;34m=\u001b[0m\u001b[0;36m32\u001b[0m\u001b[0;34m,\u001b[0m \u001b[0mverbose\u001b[0m\u001b[0;34m=\u001b[0m\u001b[0;36m0\u001b[0m\u001b[0;34m,\u001b[0m \u001b[0mcallbacks\u001b[0m\u001b[0;34m=\u001b[0m\u001b[0;34m[\u001b[0m\u001b[0mearly_stopping_callback\u001b[0m\u001b[0;34m,\u001b[0m\u001b[0mcheckpointer\u001b[0m\u001b[0;34m]\u001b[0m\u001b[0;34m)\u001b[0m\u001b[0;34m\u001b[0m\u001b[0;34m\u001b[0m\u001b[0m\n\u001b[0m\u001b[1;32m     14\u001b[0m \u001b[0;34m\u001b[0m\u001b[0m\n\u001b[1;32m     15\u001b[0m \u001b[0mloaded_model\u001b[0m \u001b[0;34m=\u001b[0m \u001b[0mload_model\u001b[0m\u001b[0;34m(\u001b[0m\u001b[0mmodelpath\u001b[0m\u001b[0;34m)\u001b[0m\u001b[0;34m\u001b[0m\u001b[0;34m\u001b[0m\u001b[0m\n",
            "\u001b[0;32m/usr/local/lib/python3.10/dist-packages/keras/src/utils/traceback_utils.py\u001b[0m in \u001b[0;36merror_handler\u001b[0;34m(*args, **kwargs)\u001b[0m\n\u001b[1;32m     63\u001b[0m         \u001b[0mfiltered_tb\u001b[0m \u001b[0;34m=\u001b[0m \u001b[0;32mNone\u001b[0m\u001b[0;34m\u001b[0m\u001b[0;34m\u001b[0m\u001b[0m\n\u001b[1;32m     64\u001b[0m         \u001b[0;32mtry\u001b[0m\u001b[0;34m:\u001b[0m\u001b[0;34m\u001b[0m\u001b[0;34m\u001b[0m\u001b[0m\n\u001b[0;32m---> 65\u001b[0;31m             \u001b[0;32mreturn\u001b[0m \u001b[0mfn\u001b[0m\u001b[0;34m(\u001b[0m\u001b[0;34m*\u001b[0m\u001b[0margs\u001b[0m\u001b[0;34m,\u001b[0m \u001b[0;34m**\u001b[0m\u001b[0mkwargs\u001b[0m\u001b[0;34m)\u001b[0m\u001b[0;34m\u001b[0m\u001b[0;34m\u001b[0m\u001b[0m\n\u001b[0m\u001b[1;32m     66\u001b[0m         \u001b[0;32mexcept\u001b[0m \u001b[0mException\u001b[0m \u001b[0;32mas\u001b[0m \u001b[0me\u001b[0m\u001b[0;34m:\u001b[0m\u001b[0;34m\u001b[0m\u001b[0;34m\u001b[0m\u001b[0m\n\u001b[1;32m     67\u001b[0m             \u001b[0mfiltered_tb\u001b[0m \u001b[0;34m=\u001b[0m \u001b[0m_process_traceback_frames\u001b[0m\u001b[0;34m(\u001b[0m\u001b[0me\u001b[0m\u001b[0;34m.\u001b[0m\u001b[0m__traceback__\u001b[0m\u001b[0;34m)\u001b[0m\u001b[0;34m\u001b[0m\u001b[0;34m\u001b[0m\u001b[0m\n",
            "\u001b[0;32m/usr/local/lib/python3.10/dist-packages/keras/src/engine/training.py\u001b[0m in \u001b[0;36mfit\u001b[0;34m(self, x, y, batch_size, epochs, verbose, callbacks, validation_split, validation_data, shuffle, class_weight, sample_weight, initial_epoch, steps_per_epoch, validation_steps, validation_batch_size, validation_freq, max_queue_size, workers, use_multiprocessing)\u001b[0m\n\u001b[1;32m   1805\u001b[0m                         ):\n\u001b[1;32m   1806\u001b[0m                             \u001b[0mcallbacks\u001b[0m\u001b[0;34m.\u001b[0m\u001b[0mon_train_batch_begin\u001b[0m\u001b[0;34m(\u001b[0m\u001b[0mstep\u001b[0m\u001b[0;34m)\u001b[0m\u001b[0;34m\u001b[0m\u001b[0;34m\u001b[0m\u001b[0m\n\u001b[0;32m-> 1807\u001b[0;31m                             \u001b[0mtmp_logs\u001b[0m \u001b[0;34m=\u001b[0m \u001b[0mself\u001b[0m\u001b[0;34m.\u001b[0m\u001b[0mtrain_function\u001b[0m\u001b[0;34m(\u001b[0m\u001b[0miterator\u001b[0m\u001b[0;34m)\u001b[0m\u001b[0;34m\u001b[0m\u001b[0;34m\u001b[0m\u001b[0m\n\u001b[0m\u001b[1;32m   1808\u001b[0m                             \u001b[0;32mif\u001b[0m \u001b[0mdata_handler\u001b[0m\u001b[0;34m.\u001b[0m\u001b[0mshould_sync\u001b[0m\u001b[0;34m:\u001b[0m\u001b[0;34m\u001b[0m\u001b[0;34m\u001b[0m\u001b[0m\n\u001b[1;32m   1809\u001b[0m                                 \u001b[0mcontext\u001b[0m\u001b[0;34m.\u001b[0m\u001b[0masync_wait\u001b[0m\u001b[0;34m(\u001b[0m\u001b[0;34m)\u001b[0m\u001b[0;34m\u001b[0m\u001b[0;34m\u001b[0m\u001b[0m\n",
            "\u001b[0;32m/usr/local/lib/python3.10/dist-packages/tensorflow/python/util/traceback_utils.py\u001b[0m in \u001b[0;36merror_handler\u001b[0;34m(*args, **kwargs)\u001b[0m\n\u001b[1;32m    148\u001b[0m     \u001b[0mfiltered_tb\u001b[0m \u001b[0;34m=\u001b[0m \u001b[0;32mNone\u001b[0m\u001b[0;34m\u001b[0m\u001b[0;34m\u001b[0m\u001b[0m\n\u001b[1;32m    149\u001b[0m     \u001b[0;32mtry\u001b[0m\u001b[0;34m:\u001b[0m\u001b[0;34m\u001b[0m\u001b[0;34m\u001b[0m\u001b[0m\n\u001b[0;32m--> 150\u001b[0;31m       \u001b[0;32mreturn\u001b[0m \u001b[0mfn\u001b[0m\u001b[0;34m(\u001b[0m\u001b[0;34m*\u001b[0m\u001b[0margs\u001b[0m\u001b[0;34m,\u001b[0m \u001b[0;34m**\u001b[0m\u001b[0mkwargs\u001b[0m\u001b[0;34m)\u001b[0m\u001b[0;34m\u001b[0m\u001b[0;34m\u001b[0m\u001b[0m\n\u001b[0m\u001b[1;32m    151\u001b[0m     \u001b[0;32mexcept\u001b[0m \u001b[0mException\u001b[0m \u001b[0;32mas\u001b[0m \u001b[0me\u001b[0m\u001b[0;34m:\u001b[0m\u001b[0;34m\u001b[0m\u001b[0;34m\u001b[0m\u001b[0m\n\u001b[1;32m    152\u001b[0m       \u001b[0mfiltered_tb\u001b[0m \u001b[0;34m=\u001b[0m \u001b[0m_process_traceback_frames\u001b[0m\u001b[0;34m(\u001b[0m\u001b[0me\u001b[0m\u001b[0;34m.\u001b[0m\u001b[0m__traceback__\u001b[0m\u001b[0;34m)\u001b[0m\u001b[0;34m\u001b[0m\u001b[0;34m\u001b[0m\u001b[0m\n",
            "\u001b[0;32m/usr/local/lib/python3.10/dist-packages/tensorflow/python/eager/polymorphic_function/polymorphic_function.py\u001b[0m in \u001b[0;36m__call__\u001b[0;34m(self, *args, **kwds)\u001b[0m\n\u001b[1;32m    830\u001b[0m \u001b[0;34m\u001b[0m\u001b[0m\n\u001b[1;32m    831\u001b[0m       \u001b[0;32mwith\u001b[0m \u001b[0mOptionalXlaContext\u001b[0m\u001b[0;34m(\u001b[0m\u001b[0mself\u001b[0m\u001b[0;34m.\u001b[0m\u001b[0m_jit_compile\u001b[0m\u001b[0;34m)\u001b[0m\u001b[0;34m:\u001b[0m\u001b[0;34m\u001b[0m\u001b[0;34m\u001b[0m\u001b[0m\n\u001b[0;32m--> 832\u001b[0;31m         \u001b[0mresult\u001b[0m \u001b[0;34m=\u001b[0m \u001b[0mself\u001b[0m\u001b[0;34m.\u001b[0m\u001b[0m_call\u001b[0m\u001b[0;34m(\u001b[0m\u001b[0;34m*\u001b[0m\u001b[0margs\u001b[0m\u001b[0;34m,\u001b[0m \u001b[0;34m**\u001b[0m\u001b[0mkwds\u001b[0m\u001b[0;34m)\u001b[0m\u001b[0;34m\u001b[0m\u001b[0;34m\u001b[0m\u001b[0m\n\u001b[0m\u001b[1;32m    833\u001b[0m \u001b[0;34m\u001b[0m\u001b[0m\n\u001b[1;32m    834\u001b[0m       \u001b[0mnew_tracing_count\u001b[0m \u001b[0;34m=\u001b[0m \u001b[0mself\u001b[0m\u001b[0;34m.\u001b[0m\u001b[0mexperimental_get_tracing_count\u001b[0m\u001b[0;34m(\u001b[0m\u001b[0;34m)\u001b[0m\u001b[0;34m\u001b[0m\u001b[0;34m\u001b[0m\u001b[0m\n",
            "\u001b[0;32m/usr/local/lib/python3.10/dist-packages/tensorflow/python/eager/polymorphic_function/polymorphic_function.py\u001b[0m in \u001b[0;36m_call\u001b[0;34m(self, *args, **kwds)\u001b[0m\n\u001b[1;32m    866\u001b[0m       \u001b[0;31m# In this case we have created variables on the first call, so we run the\u001b[0m\u001b[0;34m\u001b[0m\u001b[0;34m\u001b[0m\u001b[0m\n\u001b[1;32m    867\u001b[0m       \u001b[0;31m# defunned version which is guaranteed to never create variables.\u001b[0m\u001b[0;34m\u001b[0m\u001b[0;34m\u001b[0m\u001b[0m\n\u001b[0;32m--> 868\u001b[0;31m       return tracing_compilation.call_function(\n\u001b[0m\u001b[1;32m    869\u001b[0m           \u001b[0margs\u001b[0m\u001b[0;34m,\u001b[0m \u001b[0mkwds\u001b[0m\u001b[0;34m,\u001b[0m \u001b[0mself\u001b[0m\u001b[0;34m.\u001b[0m\u001b[0m_no_variable_creation_config\u001b[0m\u001b[0;34m\u001b[0m\u001b[0;34m\u001b[0m\u001b[0m\n\u001b[1;32m    870\u001b[0m       )\n",
            "\u001b[0;32m/usr/local/lib/python3.10/dist-packages/tensorflow/python/eager/polymorphic_function/tracing_compilation.py\u001b[0m in \u001b[0;36mcall_function\u001b[0;34m(args, kwargs, tracing_options)\u001b[0m\n\u001b[1;32m    137\u001b[0m   \u001b[0mbound_args\u001b[0m \u001b[0;34m=\u001b[0m \u001b[0mfunction\u001b[0m\u001b[0;34m.\u001b[0m\u001b[0mfunction_type\u001b[0m\u001b[0;34m.\u001b[0m\u001b[0mbind\u001b[0m\u001b[0;34m(\u001b[0m\u001b[0;34m*\u001b[0m\u001b[0margs\u001b[0m\u001b[0;34m,\u001b[0m \u001b[0;34m**\u001b[0m\u001b[0mkwargs\u001b[0m\u001b[0;34m)\u001b[0m\u001b[0;34m\u001b[0m\u001b[0;34m\u001b[0m\u001b[0m\n\u001b[1;32m    138\u001b[0m   \u001b[0mflat_inputs\u001b[0m \u001b[0;34m=\u001b[0m \u001b[0mfunction\u001b[0m\u001b[0;34m.\u001b[0m\u001b[0mfunction_type\u001b[0m\u001b[0;34m.\u001b[0m\u001b[0munpack_inputs\u001b[0m\u001b[0;34m(\u001b[0m\u001b[0mbound_args\u001b[0m\u001b[0;34m)\u001b[0m\u001b[0;34m\u001b[0m\u001b[0;34m\u001b[0m\u001b[0m\n\u001b[0;32m--> 139\u001b[0;31m   return function._call_flat(  # pylint: disable=protected-access\n\u001b[0m\u001b[1;32m    140\u001b[0m       \u001b[0mflat_inputs\u001b[0m\u001b[0;34m,\u001b[0m \u001b[0mcaptured_inputs\u001b[0m\u001b[0;34m=\u001b[0m\u001b[0mfunction\u001b[0m\u001b[0;34m.\u001b[0m\u001b[0mcaptured_inputs\u001b[0m\u001b[0;34m\u001b[0m\u001b[0;34m\u001b[0m\u001b[0m\n\u001b[1;32m    141\u001b[0m   )\n",
            "\u001b[0;32m/usr/local/lib/python3.10/dist-packages/tensorflow/python/eager/polymorphic_function/concrete_function.py\u001b[0m in \u001b[0;36m_call_flat\u001b[0;34m(self, tensor_inputs, captured_inputs)\u001b[0m\n\u001b[1;32m   1321\u001b[0m         and executing_eagerly):\n\u001b[1;32m   1322\u001b[0m       \u001b[0;31m# No tape is watching; skip to running the function.\u001b[0m\u001b[0;34m\u001b[0m\u001b[0;34m\u001b[0m\u001b[0m\n\u001b[0;32m-> 1323\u001b[0;31m       \u001b[0;32mreturn\u001b[0m \u001b[0mself\u001b[0m\u001b[0;34m.\u001b[0m\u001b[0m_inference_function\u001b[0m\u001b[0;34m.\u001b[0m\u001b[0mcall_preflattened\u001b[0m\u001b[0;34m(\u001b[0m\u001b[0margs\u001b[0m\u001b[0;34m)\u001b[0m\u001b[0;34m\u001b[0m\u001b[0;34m\u001b[0m\u001b[0m\n\u001b[0m\u001b[1;32m   1324\u001b[0m     forward_backward = self._select_forward_and_backward_functions(\n\u001b[1;32m   1325\u001b[0m         \u001b[0margs\u001b[0m\u001b[0;34m,\u001b[0m\u001b[0;34m\u001b[0m\u001b[0;34m\u001b[0m\u001b[0m\n",
            "\u001b[0;32m/usr/local/lib/python3.10/dist-packages/tensorflow/python/eager/polymorphic_function/atomic_function.py\u001b[0m in \u001b[0;36mcall_preflattened\u001b[0;34m(self, args)\u001b[0m\n\u001b[1;32m    214\u001b[0m   \u001b[0;32mdef\u001b[0m \u001b[0mcall_preflattened\u001b[0m\u001b[0;34m(\u001b[0m\u001b[0mself\u001b[0m\u001b[0;34m,\u001b[0m \u001b[0margs\u001b[0m\u001b[0;34m:\u001b[0m \u001b[0mSequence\u001b[0m\u001b[0;34m[\u001b[0m\u001b[0mcore\u001b[0m\u001b[0;34m.\u001b[0m\u001b[0mTensor\u001b[0m\u001b[0;34m]\u001b[0m\u001b[0;34m)\u001b[0m \u001b[0;34m->\u001b[0m \u001b[0mAny\u001b[0m\u001b[0;34m:\u001b[0m\u001b[0;34m\u001b[0m\u001b[0;34m\u001b[0m\u001b[0m\n\u001b[1;32m    215\u001b[0m     \u001b[0;34m\"\"\"Calls with flattened tensor inputs and returns the structured output.\"\"\"\u001b[0m\u001b[0;34m\u001b[0m\u001b[0;34m\u001b[0m\u001b[0m\n\u001b[0;32m--> 216\u001b[0;31m     \u001b[0mflat_outputs\u001b[0m \u001b[0;34m=\u001b[0m \u001b[0mself\u001b[0m\u001b[0;34m.\u001b[0m\u001b[0mcall_flat\u001b[0m\u001b[0;34m(\u001b[0m\u001b[0;34m*\u001b[0m\u001b[0margs\u001b[0m\u001b[0;34m)\u001b[0m\u001b[0;34m\u001b[0m\u001b[0;34m\u001b[0m\u001b[0m\n\u001b[0m\u001b[1;32m    217\u001b[0m     \u001b[0;32mreturn\u001b[0m \u001b[0mself\u001b[0m\u001b[0;34m.\u001b[0m\u001b[0mfunction_type\u001b[0m\u001b[0;34m.\u001b[0m\u001b[0mpack_output\u001b[0m\u001b[0;34m(\u001b[0m\u001b[0mflat_outputs\u001b[0m\u001b[0;34m)\u001b[0m\u001b[0;34m\u001b[0m\u001b[0;34m\u001b[0m\u001b[0m\n\u001b[1;32m    218\u001b[0m \u001b[0;34m\u001b[0m\u001b[0m\n",
            "\u001b[0;32m/usr/local/lib/python3.10/dist-packages/tensorflow/python/eager/polymorphic_function/atomic_function.py\u001b[0m in \u001b[0;36mcall_flat\u001b[0;34m(self, *args)\u001b[0m\n\u001b[1;32m    249\u001b[0m         \u001b[0;32mwith\u001b[0m \u001b[0mrecord\u001b[0m\u001b[0;34m.\u001b[0m\u001b[0mstop_recording\u001b[0m\u001b[0;34m(\u001b[0m\u001b[0;34m)\u001b[0m\u001b[0;34m:\u001b[0m\u001b[0;34m\u001b[0m\u001b[0;34m\u001b[0m\u001b[0m\n\u001b[1;32m    250\u001b[0m           \u001b[0;32mif\u001b[0m \u001b[0mself\u001b[0m\u001b[0;34m.\u001b[0m\u001b[0m_bound_context\u001b[0m\u001b[0;34m.\u001b[0m\u001b[0mexecuting_eagerly\u001b[0m\u001b[0;34m(\u001b[0m\u001b[0;34m)\u001b[0m\u001b[0;34m:\u001b[0m\u001b[0;34m\u001b[0m\u001b[0;34m\u001b[0m\u001b[0m\n\u001b[0;32m--> 251\u001b[0;31m             outputs = self._bound_context.call_function(\n\u001b[0m\u001b[1;32m    252\u001b[0m                 \u001b[0mself\u001b[0m\u001b[0;34m.\u001b[0m\u001b[0mname\u001b[0m\u001b[0;34m,\u001b[0m\u001b[0;34m\u001b[0m\u001b[0;34m\u001b[0m\u001b[0m\n\u001b[1;32m    253\u001b[0m                 \u001b[0mlist\u001b[0m\u001b[0;34m(\u001b[0m\u001b[0margs\u001b[0m\u001b[0;34m)\u001b[0m\u001b[0;34m,\u001b[0m\u001b[0;34m\u001b[0m\u001b[0;34m\u001b[0m\u001b[0m\n",
            "\u001b[0;32m/usr/local/lib/python3.10/dist-packages/tensorflow/python/eager/context.py\u001b[0m in \u001b[0;36mcall_function\u001b[0;34m(self, name, tensor_inputs, num_outputs)\u001b[0m\n\u001b[1;32m   1484\u001b[0m     \u001b[0mcancellation_context\u001b[0m \u001b[0;34m=\u001b[0m \u001b[0mcancellation\u001b[0m\u001b[0;34m.\u001b[0m\u001b[0mcontext\u001b[0m\u001b[0;34m(\u001b[0m\u001b[0;34m)\u001b[0m\u001b[0;34m\u001b[0m\u001b[0;34m\u001b[0m\u001b[0m\n\u001b[1;32m   1485\u001b[0m     \u001b[0;32mif\u001b[0m \u001b[0mcancellation_context\u001b[0m \u001b[0;32mis\u001b[0m \u001b[0;32mNone\u001b[0m\u001b[0;34m:\u001b[0m\u001b[0;34m\u001b[0m\u001b[0;34m\u001b[0m\u001b[0m\n\u001b[0;32m-> 1486\u001b[0;31m       outputs = execute.execute(\n\u001b[0m\u001b[1;32m   1487\u001b[0m           \u001b[0mname\u001b[0m\u001b[0;34m.\u001b[0m\u001b[0mdecode\u001b[0m\u001b[0;34m(\u001b[0m\u001b[0;34m\"utf-8\"\u001b[0m\u001b[0;34m)\u001b[0m\u001b[0;34m,\u001b[0m\u001b[0;34m\u001b[0m\u001b[0;34m\u001b[0m\u001b[0m\n\u001b[1;32m   1488\u001b[0m           \u001b[0mnum_outputs\u001b[0m\u001b[0;34m=\u001b[0m\u001b[0mnum_outputs\u001b[0m\u001b[0;34m,\u001b[0m\u001b[0;34m\u001b[0m\u001b[0;34m\u001b[0m\u001b[0m\n",
            "\u001b[0;32m/usr/local/lib/python3.10/dist-packages/tensorflow/python/eager/execute.py\u001b[0m in \u001b[0;36mquick_execute\u001b[0;34m(op_name, num_outputs, inputs, attrs, ctx, name)\u001b[0m\n\u001b[1;32m     51\u001b[0m   \u001b[0;32mtry\u001b[0m\u001b[0;34m:\u001b[0m\u001b[0;34m\u001b[0m\u001b[0;34m\u001b[0m\u001b[0m\n\u001b[1;32m     52\u001b[0m     \u001b[0mctx\u001b[0m\u001b[0;34m.\u001b[0m\u001b[0mensure_initialized\u001b[0m\u001b[0;34m(\u001b[0m\u001b[0;34m)\u001b[0m\u001b[0;34m\u001b[0m\u001b[0;34m\u001b[0m\u001b[0m\n\u001b[0;32m---> 53\u001b[0;31m     tensors = pywrap_tfe.TFE_Py_Execute(ctx._handle, device_name, op_name,\n\u001b[0m\u001b[1;32m     54\u001b[0m                                         inputs, attrs, num_outputs)\n\u001b[1;32m     55\u001b[0m   \u001b[0;32mexcept\u001b[0m \u001b[0mcore\u001b[0m\u001b[0;34m.\u001b[0m\u001b[0m_NotOkStatusException\u001b[0m \u001b[0;32mas\u001b[0m \u001b[0me\u001b[0m\u001b[0;34m:\u001b[0m\u001b[0;34m\u001b[0m\u001b[0;34m\u001b[0m\u001b[0m\n",
            "\u001b[0;31mKeyboardInterrupt\u001b[0m: "
          ]
        }
      ]
    },
    {
      "cell_type": "code",
      "source": [
        "from tensorflow.keras.models import load_model\n",
        "modelpath='/content/drive/MyDrive/작물별 모델/파/green_onion_model.keras'\n",
        "loaded_model = load_model(modelpath)\n",
        "\n",
        "loss, accuracy, recall = loaded_model.evaluate(X_test, y_test)\n",
        "print(\"\\n Test Accuracy: %.4f\" % accuracy)\n",
        "print(\"\\n Test Recall: %.4f\" % recall)"
      ],
      "metadata": {
        "colab": {
          "base_uri": "https://localhost:8080/"
        },
        "id": "TZS0POxVCsav",
        "outputId": "61396dfa-90ae-4053-9932-3ec8a5cee4ff"
      },
      "execution_count": null,
      "outputs": [
        {
          "output_type": "stream",
          "name": "stdout",
          "text": [
            "283/283 [==============================] - 4s 13ms/step - loss: 0.0832 - accuracy: 0.9801 - recall_2: 0.9800\n",
            "\n",
            " Test Accuracy: 0.9801\n",
            "\n",
            " Test Recall: 0.9800\n"
          ]
        }
      ]
    },
    {
      "cell_type": "code",
      "source": [
        "from tensorflow.keras.models import load_model\n",
        "modelpath='/content/drive/MyDrive/작물별 모델/파/green_onion_model_224_18layer_color'\n",
        "loaded_model = load_model(modelpath)\n",
        "\n",
        "print(\"\\n Test Accuracy: %.4f\" % (loaded_model.evaluate(X_val, y_val)[1]))"
      ],
      "metadata": {
        "colab": {
          "base_uri": "https://localhost:8080/"
        },
        "id": "XmMkzWOPbq7e",
        "outputId": "490be1ed-84be-43d9-c251-0bf86a4dde1f"
      },
      "execution_count": null,
      "outputs": [
        {
          "output_type": "stream",
          "name": "stdout",
          "text": [
            "283/283 [==============================] - 3s 8ms/step - loss: 0.1204 - accuracy: 0.9651 - recall_1: 0.9641\n",
            "\n",
            " Test Accuracy: 0.9651\n"
          ]
        }
      ]
    },
    {
      "cell_type": "code",
      "source": [
        "import os,sys\n",
        "from PIL import Image\n",
        "def resize_and_crop(img_array,size, crop_type='middle'):\n",
        "    img = Image.fromarray(image_array)\n",
        "    img_ratio = img.size[0] / float(img.size[1])\n",
        "    ratio = size[0] / float(size[1])\n",
        "\n",
        "    if ratio > img_ratio:\n",
        "        img = img.resize((size[0], int(round(size[0] * img.size[1] / img.size[0]))),\n",
        "            Image.LANCZOS)\n",
        "        if crop_type == 'top':\n",
        "            box = (0, 0, img.size[0], size[1])\n",
        "        elif crop_type == 'middle':\n",
        "            box = (0, int(round((img.size[1] - size[1]) / 2)), img.size[0],\n",
        "                int(round((img.size[1] + size[1]) / 2)))\n",
        "        elif crop_type == 'bottom':\n",
        "            box = (0, img.size[1] - size[1], img.size[0], img.size[1])\n",
        "        else :\n",
        "            raise ValueError('ERROR: invalid value for crop_type')\n",
        "        img = img.crop(box)\n",
        "\n",
        "    elif ratio < img_ratio:\n",
        "        img = img.resize((int(round(size[1] * img.size[0] / img.size[1])), size[1]),\n",
        "            Image.LANCZOS)\n",
        "        if crop_type == 'top':\n",
        "            box = (0, 0, size[0], img.size[1])\n",
        "        elif crop_type == 'middle':\n",
        "            box = (int(round((img.size[0] - size[0]) / 2)), 0,\n",
        "                int(round((img.size[0] + size[0]) / 2)), img.size[1])\n",
        "        elif crop_type == 'bottom':\n",
        "            box = (img.size[0] - size[0], 0, img.size[0], img.size[1])\n",
        "        else :\n",
        "            raise ValueError('ERROR: invalid value for crop_type')\n",
        "        img = img.crop(box)\n",
        "\n",
        "    else :\n",
        "        img = img.resize((size[0], size[1]), Image.LANCZOS)\n",
        "\n",
        "    return img"
      ],
      "metadata": {
        "id": "ZmPT_tBSXJq7"
      },
      "execution_count": null,
      "outputs": []
    },
    {
      "cell_type": "code",
      "source": [
        "!pip install Pillow"
      ],
      "metadata": {
        "colab": {
          "base_uri": "https://localhost:8080/"
        },
        "id": "jBtnJOxTX_U6",
        "outputId": "88630614-6250-40b1-a6bd-e54bfac8be6e"
      },
      "execution_count": null,
      "outputs": [
        {
          "output_type": "stream",
          "name": "stdout",
          "text": [
            "Requirement already satisfied: Pillow in /usr/local/lib/python3.10/dist-packages (9.4.0)\n"
          ]
        }
      ]
    },
    {
      "cell_type": "code",
      "source": [
        "image = Image.open('/content/KakaoTalk_20231227_120513713.jpg')\n",
        "# 이미지를 numpy 배열로 변환\n",
        "image_array = np.array(image)\n",
        "output_size = (224, 224)\n",
        "resized_img = resize_and_crop(image_array,output_size, crop_type='middle')\n",
        "test = np.array(resized_img).reshape(224,224,3)\n",
        "img = test\n",
        "height = img.shape[0]\n",
        "width = img.shape[1]\n",
        "#create target array for gray scale\n",
        "gray_image = np.zeros((height, width, 1), dtype=np.uint8)\n",
        "\n",
        "# 입력 이미지의 pixel 값 하나씩 불러서 변경\n",
        "for h in range(height):\n",
        "    for w in range(width):\n",
        "        b = img[h, w, 0].astype(np.float32) # RGB의 Blue 값 입력받기\n",
        "        g = img[h, w, 1].astype(np.float32) # RGB의 Green 값 입력받기\n",
        "        r = img[h, w, 2].astype(np.float32) # RGB의 Red 값 입력받기\n",
        "\n",
        "        intensity = (b+g+r)/3               # RGB 채널의 값을 하나의 값으로 평균 내기\n",
        "        gray_image[h, w, 0] = intensity     # target array에 값 저장\n",
        "gray_image = gray_image.reshape(1,128,128,1)\n",
        "loaded_model.predict(gray_image)"
      ],
      "metadata": {
        "id": "gwRSlTlQXvyE",
        "colab": {
          "base_uri": "https://localhost:8080/"
        },
        "outputId": "d903c83e-c1c7-4010-8a65-d3a837c32ed6"
      },
      "execution_count": null,
      "outputs": [
        {
          "output_type": "stream",
          "name": "stdout",
          "text": [
            "1/1 [==============================] - 3s 3s/step\n"
          ]
        },
        {
          "output_type": "execute_result",
          "data": {
            "text/plain": [
              "array([[1., 0., 0.]], dtype=float32)"
            ]
          },
          "metadata": {},
          "execution_count": 8
        }
      ]
    },
    {
      "cell_type": "code",
      "source": [],
      "metadata": {
        "id": "2u4XIS3JYnYm"
      },
      "execution_count": null,
      "outputs": []
    },
    {
      "cell_type": "code",
      "source": [],
      "metadata": {
        "id": "RtgGR2jdYcMD"
      },
      "execution_count": null,
      "outputs": []
    },
    {
      "cell_type": "code",
      "source": [
        "y_vloss = history.history['val_loss']\n",
        "y_loss = history.history['loss']\n",
        "\n",
        "\n",
        "x_len = np.arange(len(y_loss))\n",
        "plt.plot(x_len, y_vloss, marker='.', c=\"red\", label='Testset_loss')\n",
        "plt.plot(x_len, y_loss, marker='.', c=\"blue\", label='Trainset_loss')\n",
        "\n",
        "\n",
        "plt.legend(loc='upper right')\n",
        "plt.grid()\n",
        "plt.xlabel('epoch')\n",
        "plt.ylabel('loss')\n",
        "plt.show()"
      ],
      "metadata": {
        "colab": {
          "base_uri": "https://localhost:8080/",
          "height": 449
        },
        "id": "QI4dTtfC7Bfn",
        "outputId": "c92403bf-ec24-4e2d-b9ed-30d1e2716320"
      },
      "execution_count": null,
      "outputs": [
        {
          "output_type": "display_data",
          "data": {
            "text/plain": [
              "<Figure size 640x480 with 1 Axes>"
            ],
            "image/png": "[encoded data removed]"
          },
          "metadata": {}
        }
      ]
    },
    {
      "cell_type": "code",
      "source": [],
      "metadata": {
        "id": "BpRvNdxwZef-"
      },
      "execution_count": null,
      "outputs": []
    }
  ]
}